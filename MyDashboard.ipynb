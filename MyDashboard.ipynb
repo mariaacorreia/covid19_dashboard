{
 "cells": [
  {
   "cell_type": "code",
   "execution_count": 1,
   "id": "09bbbfb2-f4e2-4e93-8c81-ef44703b03b4",
   "metadata": {},
   "outputs": [],
   "source": [
    "from IPython.display import clear_output\n",
    "import ipywidgets as wdg\n",
    "import pandas as pd\n",
    "import numpy as np\n",
    "import matplotlib.pyplot as plt\n",
    "import json\n",
    "from uk_covid19 import Cov19API"
   ]
  },
  {
   "cell_type": "code",
   "execution_count": 2,
   "id": "777934b1-433d-4121-b346-6e803cdca4b4",
   "metadata": {},
   "outputs": [],
   "source": [
    "%matplotlib inline\n",
    "# make figures larger\n",
    "plt.rcParams['figure.dpi'] = 100"
   ]
  },
  {
   "cell_type": "markdown",
   "id": "82cad885-e246-4a2e-8026-977172e15374",
   "metadata": {},
   "source": [
    "## Covid 19 - A Comparison Between Number of Cases and PCR Tests"
   ]
  },
  {
   "cell_type": "markdown",
   "id": "53eb2f42-dbfd-42ab-a04a-658576b7afa2",
   "metadata": {},
   "source": [
    "This dashboard displays a graphical comparison between the number of Covid-19 cases and PCR Tests in the UK. \n",
    "\n",
    "It is useful to observe the development of the Covid-19 Pandemic through these statistics. \n",
    "\n",
    "\n",
    "Select the button below to refresh data from [Public Health England](https://www.gov.uk/government/organisations/public-health-england)."
   ]
  },
  {
   "cell_type": "code",
   "execution_count": 3,
   "id": "7bc9a0a1-193f-4169-bfa7-8944ce1cad0c",
   "metadata": {},
   "outputs": [],
   "source": [
    "with open(\"casesandtests.json\", \"rt\") as INFILE:\n",
    "    data=json.load(INFILE)  #This is the canned data in the json file. It has been assigned to a variable."
   ]
  },
  {
   "cell_type": "code",
   "execution_count": 4,
   "id": "9d4e71b9-ab81-4572-8868-d86c5da1fc42",
   "metadata": {},
   "outputs": [],
   "source": [
    "def parse_date(datestring):\n",
    "    \"\"\" Convert a date string into a pandas datetime object \"\"\"\n",
    "    return pd.to_datetime(datestring, format=\"%Y-%m-%d\") #This function allows the earliest and lastest date to be found \n",
    "#and then converted to the pandas type of representing dates. \n",
    "\n",
    "def wrangle_data(jsondata):\n",
    "    \"\"\" Wrangle data and generate a dataframe  \"\"\"\n",
    "    #Firstly,actual data  stored as a list of dictionaries under the key'data' is retrieved:\n",
    "    datalist=jsondata['data']\n",
    "    dates=[dictionary['Date'] for dictionary in datalist ] #the dates are extracted and then sorted:\n",
    "    dates.sort() #As the dates are written year-first, alphabetical ordering allows sorting. \n",
    "    startdate=parse_date(dates[0])\n",
    "    enddate=parse_date(dates[-1])\n",
    "    index=pd.date_range(startdate, enddate, freq='D') #date_range is the date analog for a range of integers. It will include \n",
    "    #any missing dates from the list. Next the dataframe is defined:\n",
    "    casesandtestsdf=pd.DataFrame(index=index, columns=['Cases', 'PCR Tests'])\n",
    "    #The following code will proceed to fill the dataframe with data fetched: \n",
    "    for entry in datalist: \n",
    "        date=parse_date(entry['Date'])\n",
    "        for column in ['Cases', 'PCR Tests']:\n",
    "            if pd.isna(casesandtestsdf.loc[date, column]): \n",
    "            #Some data has a value of \"None\" which is replaced by 0: \n",
    "               value= float(entry[column]) if entry[column]!=None else 0.0\n",
    "            #To acess a specific location in the dataframe:\n",
    "               casesandtestsdf.loc[date, column]=value\n",
    "#Any missing gaps due to missing dates are filled below: \n",
    "    casesandtestsdf.fillna(0.0, inplace=True)\n",
    "    return casesandtestsdf\n",
    "#The function is now created. We can call it again after refreshing the data through the API. \n",
    "#The JSON data should be called when the dashboard starts so the call is included below:\n",
    "casesandtestsdf=wrangle_data(data) #data is the variable assigned to the canned JSON file\n"
   ]
  },
  {
   "cell_type": "code",
   "execution_count": 5,
   "id": "af63e9e8-2f9d-4c8d-8f31-3cb0c75d9f45",
   "metadata": {},
   "outputs": [],
   "source": [
    "def access_api():\n",
    "    \"\"\" Accesses the PHE API \"\"\"\n",
    "    filters = [\n",
    "    'areaType=nation' \n",
    "    ] #The filter is defined first. According to the API documentation in the government website, this filter must be\n",
    "      #used when accessing the metric newCasesByPublishDate.\n",
    "    structure = {\n",
    "    \"Date\": \"date\",\n",
    "    \"Cases\": \"newCasesByPublishDate\",\n",
    "    \"PCR Tests\": \"newPCRTestsByPublishDate\",\n",
    "    }\n",
    "    #The structure provides the desired statistics. It is possible to rename the keys of the dictionary to simpler names\n",
    "    #as demonstrated above. The API then renames these fields when displaying the data\n",
    "    \n",
    "    api=Cov19API(filters=filters, structure=structure) #This accesses the API\n",
    "    casesandtests=api.get_json() #This send a request to the API and retreives the data in JSON format\n",
    "    return casesandtests\n",
    "#This function will be called later on by the refresh button. "
   ]
  },
  {
   "cell_type": "code",
   "execution_count": 6,
   "id": "02cd50af-03ff-451e-90c6-cce51e97037d",
   "metadata": {},
   "outputs": [
    {
     "data": {
      "application/vnd.jupyter.widget-view+json": {
       "model_id": "9052d2c704fa4bf694827f23454881e9",
       "version_major": 2,
       "version_minor": 0
      },
      "text/plain": [
       "Button(button_style='info', description='Refresh Data', icon='download', style=ButtonStyle(), tooltip='Click t…"
      ]
     },
     "metadata": {},
     "output_type": "display_data"
    }
   ],
   "source": [
    "def api_button_callback(button):\n",
    "    \"\"\" Accesses API, wrangles data, updates global variable df used for plotting. \"\"\"\n",
    "\n",
    "    apidata=access_api() #here the function created above is called. This allows to get fresh data from API\n",
    "  \n",
    " #The data is then wrangled and the dataframe is overwritten for plotting: \n",
    "    global casesandtestsdf\n",
    "    casesandtestsdf=wrangle_data(apidata)\n",
    "\n",
    "    refresh_graph() #This function allows the graph to refresh \n",
    "\n",
    "    apibutton.icon=\"check\"\n",
    "    apibutton.disabled=True\n",
    "\n",
    "apibutton=wdg.Button(\n",
    "    description='Refresh Data',\n",
    "    disabled=False,\n",
    "    button_style='info', \n",
    "    tooltip='Click to download current Public Health England data',\n",
    "    icon='download'\n",
    ")\n",
    "\n",
    "apibutton.on_click(api_button_callback) \n",
    "\n",
    "display(apibutton)"
   ]
  },
  {
   "cell_type": "markdown",
   "id": "bd90c5b1-3769-423e-8e92-91a73217cad2",
   "metadata": {},
   "source": [
    "The graph below shows the comparison between COVID-19 cases and PCR tests."
   ]
  },
  {
   "cell_type": "markdown",
   "id": "e28202fa-c13d-4712-9c6b-a933621bdd5d",
   "metadata": {},
   "source": [
    "Interact with the graph to view it for one statistic only.  \n",
    "You can also select the scale of the graph. The logarithmic scale is particularly useful to measure rates of change. "
   ]
  },
  {
   "cell_type": "code",
   "execution_count": 7,
   "id": "3e21e585-006e-469b-86f4-491d5f7c2361",
   "metadata": {},
   "outputs": [
    {
     "data": {
      "application/vnd.jupyter.widget-view+json": {
       "model_id": "baa6961f684946d592fca63e96d9d875",
       "version_major": 2,
       "version_minor": 0
      },
      "text/plain": [
       "HBox(children=(SelectMultiple(description='Select for:', index=(0, 1), options=('Cases', 'PCR Tests'), rows=2,…"
      ]
     },
     "metadata": {},
     "output_type": "display_data"
    },
    {
     "data": {
      "application/vnd.jupyter.widget-view+json": {
       "model_id": "bd782e1377d24b0ba800dc305831b198",
       "version_major": 2,
       "version_minor": 0
      },
      "text/plain": [
       "Output()"
      ]
     },
     "metadata": {},
     "output_type": "display_data"
    }
   ],
   "source": [
    "#In this section, interactive controls are introduced to the dashboard:\n",
    "\n",
    "def casesandtests_graph(gcols, gscale):   #This function accepts two parameters: a tuple of stats coming from the two widgets\n",
    "                                          #below\n",
    "    if gscale=='Linear Graph':\n",
    "        logscale=False\n",
    "    else:\n",
    "        logscale=True\n",
    "    ncols=len(gcols)\n",
    "    if ncols>0:\n",
    "        casesandtestsdf[list(gcols)].plot(logy=logscale)\n",
    "        plt.show() # important - graphs won't update if this is missing \n",
    "    #if the user hasn't selected an, the followinng message will appear:\n",
    "    else:\n",
    "        print(\"Click to select data for graph\")\n",
    "        print(\"(CTRL-Click to select more than one category)\")\n",
    "\n",
    "#This widget allows for the selection of two displayed statistics \n",
    "series=wdg.SelectMultiple(\n",
    "    options=['Cases', 'PCR Tests'], #these are the options available \n",
    "    value=['Cases', 'PCR Tests'], #these are the initial value \n",
    "    rows=2, #these are the number of rows for the selection box\n",
    "    description='Select for:',\n",
    "    disabled=False\n",
    ")\n",
    "#This widget allows for the selection of two types of graph:\n",
    "scale=wdg.RadioButtons(\n",
    "    options=['Linear Graph', 'Log Graph'],\n",
    "    description='Select Scale:',\n",
    "    disabled=False\n",
    ")\n",
    "\n",
    "controls=wdg.HBox([series, scale]) #the HBox widget allows the display of the two controls side by side\n",
    "\n",
    "def refresh_graph():\n",
    "    \"\"\" We change the value of the widget in order to force a redraw of the graph when data has been updated. \"\"\"\n",
    "    current=series.value\n",
    "    if current==series.options[0]:\n",
    "        other=(series.options[1],)\n",
    "    else:\n",
    "        other=(series.options[0],)\n",
    "    series.value=other # This forces the redraw of the graph\n",
    "    series.value=current # This now changes it back \n",
    "    \n",
    "\n",
    "graph=wdg.interactive_output(casesandtests_graph, {'gcols': series, 'gscale': scale})\n",
    "display(controls, graph)"
   ]
  },
  {
   "cell_type": "markdown",
   "id": "1dada36b-bc54-41ee-a731-6877ec582b84",
   "metadata": {},
   "source": [
    "Based on UK Government [data](https://coronavirus.data.gov.uk/) published by [Public Health England](https://www.gov.uk/government/organisations/public-health-england)."
   ]
  },
  {
   "cell_type": "markdown",
   "id": "75a76a74-567b-49fb-943a-03fcb162ef77",
   "metadata": {},
   "source": [
    "Designed and developed by Maria Correia"
   ]
  },
  {
   "cell_type": "code",
   "execution_count": null,
   "id": "2983e3fd-9b41-4fc1-a8e2-a52831e92b4d",
   "metadata": {},
   "outputs": [],
   "source": []
  }
 ],
 "metadata": {
  "kernelspec": {
   "display_name": "Python 3 (ipykernel)",
   "language": "python",
   "name": "python3"
  },
  "language_info": {
   "codemirror_mode": {
    "name": "ipython",
    "version": 3
   },
   "file_extension": ".py",
   "mimetype": "text/x-python",
   "name": "python",
   "nbconvert_exporter": "python",
   "pygments_lexer": "ipython3",
   "version": "3.9.6"
  }
 },
 "nbformat": 4,
 "nbformat_minor": 5
}
